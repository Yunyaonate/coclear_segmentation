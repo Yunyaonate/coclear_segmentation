{
  "nbformat": 4,
  "nbformat_minor": 0,
  "metadata": {
    "colab": {
      "provenance": [],
      "authorship_tag": "ABX9TyNk1HmYHcfSu7oOUhzJxWZE",
      "include_colab_link": true
    },
    "kernelspec": {
      "name": "python3",
      "display_name": "Python 3"
    },
    "language_info": {
      "name": "python"
    },
    "widgets": {
      "application/vnd.jupyter.widget-state+json": {
        "7c683d589561442aaff9568bd6d72530": {
          "model_module": "@jupyter-widgets/controls",
          "model_name": "VBoxModel",
          "model_module_version": "1.5.0",
          "state": {
            "_dom_classes": [
              "widget-interact"
            ],
            "_model_module": "@jupyter-widgets/controls",
            "_model_module_version": "1.5.0",
            "_model_name": "VBoxModel",
            "_view_count": null,
            "_view_module": "@jupyter-widgets/controls",
            "_view_module_version": "1.5.0",
            "_view_name": "VBoxView",
            "box_style": "",
            "children": [
              "IPY_MODEL_e70fb56de5b24a86be726643b03dbfaa",
              "IPY_MODEL_cbfb2b40df724ccfac1c51a85467b18c"
            ],
            "layout": "IPY_MODEL_326d442c440a4308bd5fd3cd58a00af5"
          }
        },
        "e70fb56de5b24a86be726643b03dbfaa": {
          "model_module": "@jupyter-widgets/controls",
          "model_name": "IntSliderModel",
          "model_module_version": "1.5.0",
          "state": {
            "_dom_classes": [],
            "_model_module": "@jupyter-widgets/controls",
            "_model_module_version": "1.5.0",
            "_model_name": "IntSliderModel",
            "_view_count": null,
            "_view_module": "@jupyter-widgets/controls",
            "_view_module_version": "1.5.0",
            "_view_name": "IntSliderView",
            "continuous_update": true,
            "description": "file_idx",
            "description_tooltip": null,
            "disabled": false,
            "layout": "IPY_MODEL_17fefd68648d4846952ca0261d42fff4",
            "max": 37,
            "min": 0,
            "orientation": "horizontal",
            "readout": true,
            "readout_format": "d",
            "step": 1,
            "style": "IPY_MODEL_57c59d9b9a314576ad1a3652e0bf0fa5",
            "value": 23
          }
        },
        "cbfb2b40df724ccfac1c51a85467b18c": {
          "model_module": "@jupyter-widgets/output",
          "model_name": "OutputModel",
          "model_module_version": "1.0.0",
          "state": {
            "_dom_classes": [],
            "_model_module": "@jupyter-widgets/output",
            "_model_module_version": "1.0.0",
            "_model_name": "OutputModel",
            "_view_count": null,
            "_view_module": "@jupyter-widgets/output",
            "_view_module_version": "1.0.0",
            "_view_name": "OutputView",
            "layout": "IPY_MODEL_6770182977ee48a8b957327ad540df27",
            "msg_id": "",
            "outputs": [
              {
                "output_type": "stream",
                "name": "stdout",
                "text": [
                  "Image shape: (303, 732, 3)\n",
                  "Unique values in the image: [0 1 2]\n"
                ]
              },
              {
                "output_type": "display_data",
                "data": {
                  "text/plain": "<Figure size 640x480 with 1 Axes>",
                  "image/png": "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\n"
                },
                "metadata": {}
              }
            ]
          }
        },
        "326d442c440a4308bd5fd3cd58a00af5": {
          "model_module": "@jupyter-widgets/base",
          "model_name": "LayoutModel",
          "model_module_version": "1.2.0",
          "state": {
            "_model_module": "@jupyter-widgets/base",
            "_model_module_version": "1.2.0",
            "_model_name": "LayoutModel",
            "_view_count": null,
            "_view_module": "@jupyter-widgets/base",
            "_view_module_version": "1.2.0",
            "_view_name": "LayoutView",
            "align_content": null,
            "align_items": null,
            "align_self": null,
            "border": null,
            "bottom": null,
            "display": null,
            "flex": null,
            "flex_flow": null,
            "grid_area": null,
            "grid_auto_columns": null,
            "grid_auto_flow": null,
            "grid_auto_rows": null,
            "grid_column": null,
            "grid_gap": null,
            "grid_row": null,
            "grid_template_areas": null,
            "grid_template_columns": null,
            "grid_template_rows": null,
            "height": null,
            "justify_content": null,
            "justify_items": null,
            "left": null,
            "margin": null,
            "max_height": null,
            "max_width": null,
            "min_height": null,
            "min_width": null,
            "object_fit": null,
            "object_position": null,
            "order": null,
            "overflow": null,
            "overflow_x": null,
            "overflow_y": null,
            "padding": null,
            "right": null,
            "top": null,
            "visibility": null,
            "width": null
          }
        },
        "17fefd68648d4846952ca0261d42fff4": {
          "model_module": "@jupyter-widgets/base",
          "model_name": "LayoutModel",
          "model_module_version": "1.2.0",
          "state": {
            "_model_module": "@jupyter-widgets/base",
            "_model_module_version": "1.2.0",
            "_model_name": "LayoutModel",
            "_view_count": null,
            "_view_module": "@jupyter-widgets/base",
            "_view_module_version": "1.2.0",
            "_view_name": "LayoutView",
            "align_content": null,
            "align_items": null,
            "align_self": null,
            "border": null,
            "bottom": null,
            "display": null,
            "flex": null,
            "flex_flow": null,
            "grid_area": null,
            "grid_auto_columns": null,
            "grid_auto_flow": null,
            "grid_auto_rows": null,
            "grid_column": null,
            "grid_gap": null,
            "grid_row": null,
            "grid_template_areas": null,
            "grid_template_columns": null,
            "grid_template_rows": null,
            "height": null,
            "justify_content": null,
            "justify_items": null,
            "left": null,
            "margin": null,
            "max_height": null,
            "max_width": null,
            "min_height": null,
            "min_width": null,
            "object_fit": null,
            "object_position": null,
            "order": null,
            "overflow": null,
            "overflow_x": null,
            "overflow_y": null,
            "padding": null,
            "right": null,
            "top": null,
            "visibility": null,
            "width": null
          }
        },
        "57c59d9b9a314576ad1a3652e0bf0fa5": {
          "model_module": "@jupyter-widgets/controls",
          "model_name": "SliderStyleModel",
          "model_module_version": "1.5.0",
          "state": {
            "_model_module": "@jupyter-widgets/controls",
            "_model_module_version": "1.5.0",
            "_model_name": "SliderStyleModel",
            "_view_count": null,
            "_view_module": "@jupyter-widgets/base",
            "_view_module_version": "1.2.0",
            "_view_name": "StyleView",
            "description_width": "",
            "handle_color": null
          }
        },
        "6770182977ee48a8b957327ad540df27": {
          "model_module": "@jupyter-widgets/base",
          "model_name": "LayoutModel",
          "model_module_version": "1.2.0",
          "state": {
            "_model_module": "@jupyter-widgets/base",
            "_model_module_version": "1.2.0",
            "_model_name": "LayoutModel",
            "_view_count": null,
            "_view_module": "@jupyter-widgets/base",
            "_view_module_version": "1.2.0",
            "_view_name": "LayoutView",
            "align_content": null,
            "align_items": null,
            "align_self": null,
            "border": null,
            "bottom": null,
            "display": null,
            "flex": null,
            "flex_flow": null,
            "grid_area": null,
            "grid_auto_columns": null,
            "grid_auto_flow": null,
            "grid_auto_rows": null,
            "grid_column": null,
            "grid_gap": null,
            "grid_row": null,
            "grid_template_areas": null,
            "grid_template_columns": null,
            "grid_template_rows": null,
            "height": null,
            "justify_content": null,
            "justify_items": null,
            "left": null,
            "margin": null,
            "max_height": null,
            "max_width": null,
            "min_height": null,
            "min_width": null,
            "object_fit": null,
            "object_position": null,
            "order": null,
            "overflow": null,
            "overflow_x": null,
            "overflow_y": null,
            "padding": null,
            "right": null,
            "top": null,
            "visibility": null,
            "width": null
          }
        },
        "53a77606325949dc91d308e4561290ae": {
          "model_module": "@jupyter-widgets/controls",
          "model_name": "VBoxModel",
          "model_module_version": "1.5.0",
          "state": {
            "_dom_classes": [
              "widget-interact"
            ],
            "_model_module": "@jupyter-widgets/controls",
            "_model_module_version": "1.5.0",
            "_model_name": "VBoxModel",
            "_view_count": null,
            "_view_module": "@jupyter-widgets/controls",
            "_view_module_version": "1.5.0",
            "_view_name": "VBoxView",
            "box_style": "",
            "children": [
              "IPY_MODEL_1c1d7e293ac345278b160573170bb619",
              "IPY_MODEL_6d42a692e6824febaee2a66828f25918"
            ],
            "layout": "IPY_MODEL_2d3caee23384474c866c3e962799561d"
          }
        },
        "1c1d7e293ac345278b160573170bb619": {
          "model_module": "@jupyter-widgets/controls",
          "model_name": "IntSliderModel",
          "model_module_version": "1.5.0",
          "state": {
            "_dom_classes": [],
            "_model_module": "@jupyter-widgets/controls",
            "_model_module_version": "1.5.0",
            "_model_name": "IntSliderModel",
            "_view_count": null,
            "_view_module": "@jupyter-widgets/controls",
            "_view_module_version": "1.5.0",
            "_view_name": "IntSliderView",
            "continuous_update": true,
            "description": "file_idx",
            "description_tooltip": null,
            "disabled": false,
            "layout": "IPY_MODEL_fd58ee07527540cca49b1c661b0d1d00",
            "max": 37,
            "min": 0,
            "orientation": "horizontal",
            "readout": true,
            "readout_format": "d",
            "step": 1,
            "style": "IPY_MODEL_816857c80981422a80c3e9e32f5f184c",
            "value": 1
          }
        },
        "6d42a692e6824febaee2a66828f25918": {
          "model_module": "@jupyter-widgets/output",
          "model_name": "OutputModel",
          "model_module_version": "1.0.0",
          "state": {
            "_dom_classes": [],
            "_model_module": "@jupyter-widgets/output",
            "_model_module_version": "1.0.0",
            "_model_name": "OutputModel",
            "_view_count": null,
            "_view_module": "@jupyter-widgets/output",
            "_view_module_version": "1.0.0",
            "_view_name": "OutputView",
            "layout": "IPY_MODEL_3a9f355312674dd59ecc7a8bfd088037",
            "msg_id": "",
            "outputs": [
              {
                "output_type": "stream",
                "name": "stdout",
                "text": [
                  "Unique values in the mask: [0 1 2]\n",
                  "Mask shape: (356, 736), Image shape: (356, 736, 3), Mask data type: uint8\n"
                ]
              },
              {
                "output_type": "display_data",
                "data": {
                  "text/plain": "<Figure size 640x480 with 1 Axes>",
                  "image/png": "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\n"
                },
                "metadata": {}
              }
            ]
          }
        },
        "2d3caee23384474c866c3e962799561d": {
          "model_module": "@jupyter-widgets/base",
          "model_name": "LayoutModel",
          "model_module_version": "1.2.0",
          "state": {
            "_model_module": "@jupyter-widgets/base",
            "_model_module_version": "1.2.0",
            "_model_name": "LayoutModel",
            "_view_count": null,
            "_view_module": "@jupyter-widgets/base",
            "_view_module_version": "1.2.0",
            "_view_name": "LayoutView",
            "align_content": null,
            "align_items": null,
            "align_self": null,
            "border": null,
            "bottom": null,
            "display": null,
            "flex": null,
            "flex_flow": null,
            "grid_area": null,
            "grid_auto_columns": null,
            "grid_auto_flow": null,
            "grid_auto_rows": null,
            "grid_column": null,
            "grid_gap": null,
            "grid_row": null,
            "grid_template_areas": null,
            "grid_template_columns": null,
            "grid_template_rows": null,
            "height": null,
            "justify_content": null,
            "justify_items": null,
            "left": null,
            "margin": null,
            "max_height": null,
            "max_width": null,
            "min_height": null,
            "min_width": null,
            "object_fit": null,
            "object_position": null,
            "order": null,
            "overflow": null,
            "overflow_x": null,
            "overflow_y": null,
            "padding": null,
            "right": null,
            "top": null,
            "visibility": null,
            "width": null
          }
        },
        "fd58ee07527540cca49b1c661b0d1d00": {
          "model_module": "@jupyter-widgets/base",
          "model_name": "LayoutModel",
          "model_module_version": "1.2.0",
          "state": {
            "_model_module": "@jupyter-widgets/base",
            "_model_module_version": "1.2.0",
            "_model_name": "LayoutModel",
            "_view_count": null,
            "_view_module": "@jupyter-widgets/base",
            "_view_module_version": "1.2.0",
            "_view_name": "LayoutView",
            "align_content": null,
            "align_items": null,
            "align_self": null,
            "border": null,
            "bottom": null,
            "display": null,
            "flex": null,
            "flex_flow": null,
            "grid_area": null,
            "grid_auto_columns": null,
            "grid_auto_flow": null,
            "grid_auto_rows": null,
            "grid_column": null,
            "grid_gap": null,
            "grid_row": null,
            "grid_template_areas": null,
            "grid_template_columns": null,
            "grid_template_rows": null,
            "height": null,
            "justify_content": null,
            "justify_items": null,
            "left": null,
            "margin": null,
            "max_height": null,
            "max_width": null,
            "min_height": null,
            "min_width": null,
            "object_fit": null,
            "object_position": null,
            "order": null,
            "overflow": null,
            "overflow_x": null,
            "overflow_y": null,
            "padding": null,
            "right": null,
            "top": null,
            "visibility": null,
            "width": null
          }
        },
        "816857c80981422a80c3e9e32f5f184c": {
          "model_module": "@jupyter-widgets/controls",
          "model_name": "SliderStyleModel",
          "model_module_version": "1.5.0",
          "state": {
            "_model_module": "@jupyter-widgets/controls",
            "_model_module_version": "1.5.0",
            "_model_name": "SliderStyleModel",
            "_view_count": null,
            "_view_module": "@jupyter-widgets/base",
            "_view_module_version": "1.2.0",
            "_view_name": "StyleView",
            "description_width": "",
            "handle_color": null
          }
        },
        "3a9f355312674dd59ecc7a8bfd088037": {
          "model_module": "@jupyter-widgets/base",
          "model_name": "LayoutModel",
          "model_module_version": "1.2.0",
          "state": {
            "_model_module": "@jupyter-widgets/base",
            "_model_module_version": "1.2.0",
            "_model_name": "LayoutModel",
            "_view_count": null,
            "_view_module": "@jupyter-widgets/base",
            "_view_module_version": "1.2.0",
            "_view_name": "LayoutView",
            "align_content": null,
            "align_items": null,
            "align_self": null,
            "border": null,
            "bottom": null,
            "display": null,
            "flex": null,
            "flex_flow": null,
            "grid_area": null,
            "grid_auto_columns": null,
            "grid_auto_flow": null,
            "grid_auto_rows": null,
            "grid_column": null,
            "grid_gap": null,
            "grid_row": null,
            "grid_template_areas": null,
            "grid_template_columns": null,
            "grid_template_rows": null,
            "height": null,
            "justify_content": null,
            "justify_items": null,
            "left": null,
            "margin": null,
            "max_height": null,
            "max_width": null,
            "min_height": null,
            "min_width": null,
            "object_fit": null,
            "object_position": null,
            "order": null,
            "overflow": null,
            "overflow_x": null,
            "overflow_y": null,
            "padding": null,
            "right": null,
            "top": null,
            "visibility": null,
            "width": null
          }
        }
      }
    }
  },
  "cells": [
    {
      "cell_type": "markdown",
      "metadata": {
        "id": "view-in-github",
        "colab_type": "text"
      },
      "source": [
        "<a href=\"https://colab.research.google.com/github/Yunyaonate/coclear_segmentation/blob/main/labelme_mask_batch.ipynb\" target=\"_parent\"><img src=\"https://colab.research.google.com/assets/colab-badge.svg\" alt=\"Open In Colab\"/></a>"
      ]
    },
    {
      "cell_type": "code",
      "source": [
        "!pip install seedir\n",
        "!pip install emoji"
      ],
      "metadata": {
        "colab": {
          "base_uri": "https://localhost:8080/"
        },
        "id": "ryrrTvlZoWY0",
        "outputId": "df7f35a7-62a8-4531-afe2-f27c8704ee40"
      },
      "execution_count": null,
      "outputs": [
        {
          "output_type": "stream",
          "name": "stdout",
          "text": [
            "Collecting seedir\n",
            "  Downloading seedir-0.4.2-py3-none-any.whl (111 kB)\n",
            "\u001b[?25l     \u001b[90m━━━━━━━━━━━━━━━━━━━━━━━━━━━━━━━━━━━━━━━━\u001b[0m \u001b[32m0.0/111.2 kB\u001b[0m \u001b[31m?\u001b[0m eta \u001b[36m-:--:--\u001b[0m\r\u001b[2K     \u001b[91m━━━━━━━━━━━━━━━━━━━━━━━━━━━━━━━━━━━━\u001b[0m\u001b[91m╸\u001b[0m\u001b[90m━━━\u001b[0m \u001b[32m102.4/111.2 kB\u001b[0m \u001b[31m3.2 MB/s\u001b[0m eta \u001b[36m0:00:01\u001b[0m\r\u001b[2K     \u001b[90m━━━━━━━━━━━━━━━━━━━━━━━━━━━━━━━━━━━━━━━━\u001b[0m \u001b[32m111.2/111.2 kB\u001b[0m \u001b[31m2.8 MB/s\u001b[0m eta \u001b[36m0:00:00\u001b[0m\n",
            "\u001b[?25hRequirement already satisfied: natsort in /usr/local/lib/python3.10/dist-packages (from seedir) (8.4.0)\n",
            "Installing collected packages: seedir\n",
            "Successfully installed seedir-0.4.2\n",
            "Collecting emoji\n",
            "  Downloading emoji-2.10.1-py2.py3-none-any.whl (421 kB)\n",
            "\u001b[2K     \u001b[90m━━━━━━━━━━━━━━━━━━━━━━━━━━━━━━━━━━━━━━━━\u001b[0m \u001b[32m421.5/421.5 kB\u001b[0m \u001b[31m9.9 MB/s\u001b[0m eta \u001b[36m0:00:00\u001b[0m\n",
            "\u001b[?25hInstalling collected packages: emoji\n",
            "Successfully installed emoji-2.10.1\n"
          ]
        }
      ]
    },
    {
      "cell_type": "code",
      "execution_count": null,
      "metadata": {
        "colab": {
          "base_uri": "https://localhost:8080/"
        },
        "id": "C6UzDe_ynZeM",
        "outputId": "0a022565-7f83-4ea5-8c4d-2a3672863074"
      },
      "outputs": [
        {
          "output_type": "stream",
          "name": "stdout",
          "text": [
            "Mounted at /content/drive\n"
          ]
        }
      ],
      "source": [
        "from google.colab import drive\n",
        "drive.mount('/content/drive')"
      ]
    },
    {
      "cell_type": "code",
      "source": [
        "import os\n",
        "import json\n",
        "import cv2\n",
        "import shutil\n"
      ],
      "metadata": {
        "id": "jfxtKf4Env3o"
      },
      "execution_count": null,
      "outputs": []
    },
    {
      "cell_type": "code",
      "source": [
        "import seedir as sd\n",
        "\n",
        "sd.seedir('/content/drive/MyDrive/MDHDS/Capstone/Test_data',depthlimit =1)"
      ],
      "metadata": {
        "colab": {
          "base_uri": "https://localhost:8080/"
        },
        "id": "UJiHC-WFn0-k",
        "outputId": "20269075-dd70-4c8b-9938-387b2fbfa197"
      },
      "execution_count": null,
      "outputs": [
        {
          "output_type": "stream",
          "name": "stdout",
          "text": [
            "Test_data/\n",
            "├─masks/\n",
            "├─images/\n",
            "└─labelme_jsons/\n"
          ]
        }
      ]
    },
    {
      "cell_type": "code",
      "source": [
        "# import os\n",
        "# import shutil\n",
        "\n",
        "# Define your base directory where your files are located\n",
        "base_dir = '/content/drive/MyDrive/MDHDS/Capstone/Test_data'  # Change this to the path where your files are currently located\n",
        "\n",
        "# Define your target directories\n",
        "jpeg_dir = '/content/drive/MyDrive/MDHDS/Capstone/Test_data/images'\n",
        "json_dir = '/content/drive/MyDrive/MDHDS/Capstone/Test_data/labelme_jsons'\n",
        "\n",
        "# Create target directories if they don't exist\n",
        "if not os.path.exists(jpeg_dir):\n",
        "    os.makedirs(jpeg_dir)\n",
        "\n",
        "if not os.path.exists(json_dir):\n",
        "    os.makedirs(json_dir)\n",
        "\n",
        "# Move the JPEG files to 'images' and JSON files to 'labelme_jsons'\n",
        "for filename in os.listdir(base_dir):\n",
        "    if filename.lower().endswith('.jpeg'):\n",
        "        shutil.move(os.path.join(base_dir, filename), os.path.join(jpeg_dir, filename))\n",
        "    elif filename.lower().endswith('.json'):\n",
        "        shutil.move(os.path.join(base_dir, filename), os.path.join(json_dir, filename))\n"
      ],
      "metadata": {
        "id": "k0UGAqzUGaZt"
      },
      "execution_count": null,
      "outputs": []
    },
    {
      "cell_type": "markdown",
      "source": [
        "# Cleaning up common unnecessary or hidden files and directories"
      ],
      "metadata": {
        "id": "lCUoc5JxteTg"
      }
    },
    {
      "cell_type": "code",
      "source": [
        "!find . -iname '._MACOSX'\n",
        "!find . -iname '.DS_Store'\n",
        "!find . -iname '.ipynb_checkpoints'"
      ],
      "metadata": {
        "id": "aKmdm8xup0M2"
      },
      "execution_count": null,
      "outputs": []
    },
    {
      "cell_type": "code",
      "source": [
        "!find . -iname '._MACOSX' -exec rm -rf {} +\n",
        "!find . -iname '.DS_Store' -exec rm -rf {} +\n",
        "!find . -iname '.ipynb_checkpoints' -exec rm -rf {} +"
      ],
      "metadata": {
        "id": "WOPiCypUqbpO"
      },
      "execution_count": null,
      "outputs": []
    },
    {
      "cell_type": "code",
      "source": [],
      "metadata": {
        "id": "ngDgIuCQrK2H"
      },
      "execution_count": null,
      "outputs": []
    },
    {
      "cell_type": "code",
      "source": [
        "import os\n",
        "import json\n",
        "import numpy as np\n",
        "import cv2\n",
        "import shutil\n",
        "\n",
        "from tqdm import tqdm"
      ],
      "metadata": {
        "id": "HLFm8Q-HrIrP"
      },
      "execution_count": null,
      "outputs": []
    },
    {
      "cell_type": "code",
      "source": [
        "Dataset_Path = '/content/drive/MyDrive/MDHDS/Capstone/Test_data'"
      ],
      "metadata": {
        "id": "DtrChxkCCWWr"
      },
      "execution_count": null,
      "outputs": []
    },
    {
      "cell_type": "code",
      "source": [
        "class_info = [\n",
        "    {'label': 'electrode', 'type': 'circle', 'color': 1, 'thickness': -1},  # Use thickness=-1 for filled circles\n",
        "    {'label': 'cochlear', 'type': 'rectangle', 'color': 2, 'thickness': -1},  # Assuming rectangles are filled\n",
        "    {'label': 'electrode', 'type': 'polygon', 'color': 1, 'thickness': -1}  # Assuming polygons are filled\n",
        "]"
      ],
      "metadata": {
        "id": "mytiAx1LCufO"
      },
      "execution_count": null,
      "outputs": []
    },
    {
      "cell_type": "code",
      "source": [
        "def labelme2mask_single_img(img_path, labelme_json_path):\n",
        "    '''\n",
        "    输入原始图像路径和labelme标注路径，输出 mask\n",
        "    '''\n",
        "\n",
        "    img_bgr = cv2.imread(img_path)\n",
        "    img_mask = np.zeros(img_bgr.shape[:2], dtype=np.uint8) # 创建空白图像 0-背景\n",
        "\n",
        "    with open(labelme_json_path, 'r', encoding='utf-8') as f:\n",
        "        labelme = json.load(f)\n",
        "\n",
        "        # Draw rectangles first\n",
        "        for each in labelme['shapes']:\n",
        "            if each['shape_type'] == 'rectangle':\n",
        "                for one_class in class_info:\n",
        "                    if each['label'] == one_class['label'] and one_class['type'] == 'rectangle':\n",
        "                        points = np.array(each['points'], dtype=np.int32)\n",
        "                        top_left = tuple(points[0])\n",
        "                        bottom_right = tuple(points[1])\n",
        "                        cv2.rectangle(img_mask, top_left, bottom_right, one_class['color'], one_class['thickness'])\n",
        "\n",
        "        # Then draw polygons (if needed)\n",
        "        for each in labelme['shapes']:\n",
        "            if each['shape_type'] == 'polygon':\n",
        "                for one_class in class_info:\n",
        "                    if each['label'] == one_class['label'] and one_class['type'] == 'polygon':\n",
        "                        points = np.array(each['points'], dtype=np.int32)\n",
        "                        cv2.fillPoly(img_mask, [points], one_class['color'])\n",
        "\n",
        "        # Finally, draw circles\n",
        "        for each in labelme['shapes']:\n",
        "            if each['shape_type'] == 'circle':\n",
        "                for one_class in class_info:\n",
        "                    if each['label'] == one_class['label'] and one_class['type'] == 'circle':\n",
        "                        points = np.array(each['points'], dtype=np.int32)\n",
        "                        center = tuple(points[0])\n",
        "                        edge = tuple(points[1])\n",
        "                        radius = int(np.linalg.norm(points[0] - points[1]))\n",
        "                        cv2.circle(img_mask, center, radius, one_class['color'], one_class['thickness'])\n",
        "    return img_mask\n"
      ],
      "metadata": {
        "id": "PWosXc8nC8iB"
      },
      "execution_count": null,
      "outputs": []
    },
    {
      "cell_type": "code",
      "source": [
        "Dataset_Path = '/content/drive/MyDrive/MDHDS/Capstone/Test_data/'\n",
        "os.chdir(Dataset_Path)\n",
        "# os.mkdir('masks')\n",
        "os.chdir('images')"
      ],
      "metadata": {
        "id": "TL5juw1HEGEY"
      },
      "execution_count": null,
      "outputs": []
    },
    {
      "cell_type": "code",
      "source": [
        "for img_path in tqdm(os.listdir()):\n",
        "\n",
        "    try:\n",
        "\n",
        "        labelme_json_path = os.path.join('../', 'labelme_jsons', '.'.join(img_path.split('.')[:-1])+'.json')\n",
        "\n",
        "        img_mask = labelme2mask_single_img(img_path, labelme_json_path)\n",
        "\n",
        "        mask_path = img_path.split('.')[0] + '.png'\n",
        "\n",
        "        cv2.imwrite(os.path.join('../','masks',mask_path), img_mask)\n",
        "\n",
        "    except Exception as E:\n",
        "        print(img_path, 'Convertion failed', E)"
      ],
      "metadata": {
        "colab": {
          "base_uri": "https://localhost:8080/"
        },
        "id": "cilK6m-FJJPP",
        "outputId": "14430275-c8de-472f-8967-1b951d597c2b"
      },
      "execution_count": null,
      "outputs": [
        {
          "output_type": "stream",
          "name": "stderr",
          "text": [
            "100%|██████████| 38/38 [00:03<00:00, 12.33it/s]\n"
          ]
        }
      ]
    },
    {
      "cell_type": "markdown",
      "source": [
        "# After processing, delete the JSON files and original directories"
      ],
      "metadata": {
        "id": "VS3TW2YurvJB"
      }
    },
    {
      "cell_type": "code",
      "source": [
        "os.chdir('../')\n",
        "shutil.move('images', 'img_dir')\n",
        "shutil.move('masks', 'ann_dir')\n",
        "!rm -rf labelme_jsons\n",
        "os.chdir('../')"
      ],
      "metadata": {
        "id": "93azkG6iJ8cc"
      },
      "execution_count": null,
      "outputs": []
    },
    {
      "cell_type": "markdown",
      "source": [
        "# Visualise the masks"
      ],
      "metadata": {
        "id": "PJMYrlYnrm6Z"
      }
    },
    {
      "cell_type": "code",
      "source": [
        "from IPython.display import display, clear_output\n",
        "import ipywidgets as widgets\n",
        "import matplotlib.pyplot as plt\n",
        "\n",
        "mask_path = '/content/drive/MyDrive/MDHDS/Capstone/Test_data/ann_dir/208_I0000626.png'\n",
        "mask_img = cv2.imread(mask_path)\n",
        "print(mask_img.shape)\n",
        "np.unique(mask_img)\n",
        "\n",
        "plt.imshow(mask_img[:,:,0])\n",
        "plt.show()"
      ],
      "metadata": {
        "colab": {
          "base_uri": "https://localhost:8080/",
          "height": 322
        },
        "id": "LGTFB-O8NEF4",
        "outputId": "4b5fef11-aeef-4adb-bb32-264af6c8a8f4"
      },
      "execution_count": null,
      "outputs": [
        {
          "output_type": "stream",
          "name": "stdout",
          "text": [
            "(356, 736, 3)\n"
          ]
        },
        {
          "output_type": "display_data",
          "data": {
            "text/plain": [
              "<Figure size 640x480 with 1 Axes>"
            ],
            "image/png": "[encoded data removed]"
          },
          "metadata": {}
        }
      ]
    },
    {
      "cell_type": "code",
      "source": [
        "from ipywidgets import interact\n",
        "\n",
        "# Directory where the PNG images are located\n",
        "ann_dir = '/content/drive/MyDrive/MDHDS/Capstone/Test_data/ann_dir'\n",
        "\n",
        "# Get a list of PNG files in the directory\n",
        "png_files = [f for f in os.listdir(ann_dir) if f.endswith('.png')]\n",
        "\n",
        "# Function to read and display an image\n",
        "def display_image(file_idx):\n",
        "    # Read image\n",
        "    img_path = os.path.join(ann_dir, png_files[file_idx])\n",
        "    img = cv2.imread(img_path)\n",
        "    # img = cv2.cvtColor(img, cv2.COLOR_BGR2RGB) # Convert color from BGR to RGB\n",
        "    # Display image shape and unique values in the image\n",
        "    print(f\"Image shape: {img.shape}\")\n",
        "    print(f\"Unique values in the image: {np.unique(img[:,:,0])}\")\n",
        "\n",
        "    # Display the image\n",
        "    plt.imshow(img[:,:,0])\n",
        "    plt.axis('off') # Hide the axis\n",
        "    plt.show()\n",
        "\n",
        "# Create a slider to select different images\n",
        "interact(display_image, file_idx=(0, len(png_files)-1))"
      ],
      "metadata": {
        "colab": {
          "base_uri": "https://localhost:8080/",
          "height": 395,
          "referenced_widgets": [
            "7c683d589561442aaff9568bd6d72530",
            "e70fb56de5b24a86be726643b03dbfaa",
            "cbfb2b40df724ccfac1c51a85467b18c",
            "326d442c440a4308bd5fd3cd58a00af5",
            "17fefd68648d4846952ca0261d42fff4",
            "57c59d9b9a314576ad1a3652e0bf0fa5",
            "6770182977ee48a8b957327ad540df27"
          ]
        },
        "id": "tLl9Ir2BOFMY",
        "outputId": "546562b3-381e-4448-b239-13ee230ff735"
      },
      "execution_count": null,
      "outputs": [
        {
          "output_type": "display_data",
          "data": {
            "text/plain": [
              "interactive(children=(IntSlider(value=18, description='file_idx', max=37), Output()), _dom_classes=('widget-in…"
            ],
            "application/vnd.jupyter.widget-view+json": {
              "version_major": 2,
              "version_minor": 0,
              "model_id": "7c683d589561442aaff9568bd6d72530"
            }
          },
          "metadata": {}
        },
        {
          "output_type": "execute_result",
          "data": {
            "text/plain": [
              "<function __main__.display_image(file_idx)>"
            ],
            "text/html": [
              "<div style=\"max-width:800px; border: 1px solid var(--colab-border-color);\"><style>\n",
              "      pre.function-repr-contents {\n",
              "        overflow-x: auto;\n",
              "        padding: 8px 12px;\n",
              "        max-height: 500px;\n",
              "      }\n",
              "\n",
              "      pre.function-repr-contents.function-repr-contents-collapsed {\n",
              "        cursor: pointer;\n",
              "        max-height: 100px;\n",
              "      }\n",
              "    </style>\n",
              "    <pre style=\"white-space: initial; background:\n",
              "         var(--colab-secondary-surface-color); padding: 8px 12px;\n",
              "         border-bottom: 1px solid var(--colab-border-color);\"><b>display_image</b><br/>def display_image(file_idx)</pre><pre class=\"function-repr-contents function-repr-contents-collapsed\" style=\"\"><a class=\"filepath\" style=\"display:none\" href=\"#\">/content/&lt;ipython-input-7-b101262a9c8e&gt;</a>&lt;no docstring&gt;</pre></div>"
            ]
          },
          "metadata": {},
          "execution_count": 7
        }
      ]
    },
    {
      "cell_type": "code",
      "source": [
        "import numpy as np\n",
        "import cv2\n",
        "from ipywidgets import interactive\n",
        "import matplotlib.pyplot as plt\n",
        "\n",
        "\n",
        "# Directory where the PNG images are located\n",
        "ann_dir = '/content/drive/MyDrive/MDHDS/Capstone/Test_data/ann_dir'\n",
        "img_dir = '/content/drive/MyDrive/MDHDS/Capstone/Test_data/img_dir/'\n",
        "\n",
        "# Get a list of PNG files in the directory\n",
        "png_files = [f for f in os.listdir(ann_dir) if f.endswith('.png')]\n",
        "scan_files = [f for f in os.listdir(img_dir) if f.endswith('.jpeg')]\n",
        "\n",
        "# Function to read and display an image\n",
        "def display_image(file_idx):\n",
        "    # Read image\n",
        "    ann_path = os.path.join(ann_dir, png_files[file_idx])\n",
        "    img_path = os.path.join(img_dir, scan_files[file_idx])\n",
        "\n",
        "    img_scan = cv2.imread(img_path)\n",
        "    img_mask = cv2.imread(ann_path, 0)  # Read as grayscale\n",
        "\n",
        "    # Check if images are read properly\n",
        "    if img_scan is None or img_mask is None:\n",
        "        print(\"Error reading the images.\")\n",
        "        return\n",
        "\n",
        "    # Check the unique values in img_mask\n",
        "    print(f\"Unique values in the mask: {np.unique(img_mask)}\")\n",
        "\n",
        "    # Assuming the mask has values 1 and 2, check the shape and data type\n",
        "    print(f\"Mask shape: {img_mask.shape}, Image shape: {img_scan.shape}, Mask data type: {img_mask.dtype}\")\n",
        "\n",
        "    # Create a color mask with the same dimensions as the original image\n",
        "    color_mask = np.zeros_like(img_scan)\n",
        "    color_mask[img_mask == 1] = [0, 0, 255]  # Red for 'electrode'\n",
        "    color_mask[img_mask == 2] = [0, 255, 0]  # Green for 'cochlear'\n",
        "\n",
        "    # Now, overlay the color mask on the original image\n",
        "    alpha = 0.3\n",
        "\n",
        "    # Blend the original image and the color mask\n",
        "    overlayed_image = cv2.addWeighted(img_scan, 1-alpha, color_mask, alpha, 0)\n",
        "\n",
        "    # Convert to RGB for display\n",
        "    overlayed_image = cv2.cvtColor(overlayed_image, cv2.COLOR_BGR2RGB)\n",
        "\n",
        "    # Display the result\n",
        "    plt.imshow(overlayed_image)\n",
        "    plt.axis('off')  # Hide the axis\n",
        "    plt.show()\n",
        "\n",
        "# Create a slider to select different images\n",
        "interact(display_image, file_idx=(0, len(png_files)-1))\n"
      ],
      "metadata": {
        "colab": {
          "base_uri": "https://localhost:8080/",
          "height": 429,
          "referenced_widgets": [
            "53a77606325949dc91d308e4561290ae",
            "1c1d7e293ac345278b160573170bb619",
            "6d42a692e6824febaee2a66828f25918",
            "2d3caee23384474c866c3e962799561d",
            "fd58ee07527540cca49b1c661b0d1d00",
            "816857c80981422a80c3e9e32f5f184c",
            "3a9f355312674dd59ecc7a8bfd088037"
          ]
        },
        "id": "D7CYfjyCYjKq",
        "outputId": "5eb9e1a5-9895-4542-aa67-e1ffeceb9ef9"
      },
      "execution_count": null,
      "outputs": [
        {
          "output_type": "display_data",
          "data": {
            "text/plain": [
              "interactive(children=(IntSlider(value=18, description='file_idx', max=37), Output()), _dom_classes=('widget-in…"
            ],
            "application/vnd.jupyter.widget-view+json": {
              "version_major": 2,
              "version_minor": 0,
              "model_id": "53a77606325949dc91d308e4561290ae"
            }
          },
          "metadata": {}
        },
        {
          "output_type": "execute_result",
          "data": {
            "text/plain": [
              "<function __main__.display_image(file_idx)>"
            ],
            "text/html": [
              "<div style=\"max-width:800px; border: 1px solid var(--colab-border-color);\"><style>\n",
              "      pre.function-repr-contents {\n",
              "        overflow-x: auto;\n",
              "        padding: 8px 12px;\n",
              "        max-height: 500px;\n",
              "      }\n",
              "\n",
              "      pre.function-repr-contents.function-repr-contents-collapsed {\n",
              "        cursor: pointer;\n",
              "        max-height: 100px;\n",
              "      }\n",
              "    </style>\n",
              "    <pre style=\"white-space: initial; background:\n",
              "         var(--colab-secondary-surface-color); padding: 8px 12px;\n",
              "         border-bottom: 1px solid var(--colab-border-color);\"><b>display_image</b><br/>def display_image(file_idx)</pre><pre class=\"function-repr-contents function-repr-contents-collapsed\" style=\"\"><a class=\"filepath\" style=\"display:none\" href=\"#\">/content/&lt;ipython-input-8-2098e4d2ea11&gt;</a>&lt;no docstring&gt;</pre></div>"
            ]
          },
          "metadata": {},
          "execution_count": 8
        }
      ]
    }
  ]
}